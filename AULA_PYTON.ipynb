{
  "nbformat": 4,
  "nbformat_minor": 0,
  "metadata": {
    "colab": {
      "provenance": [],
      "authorship_tag": "ABX9TyOaizrynEqNsjGJSpjp8E1r",
      "include_colab_link": true
    },
    "kernelspec": {
      "name": "python3",
      "display_name": "Python 3"
    },
    "language_info": {
      "name": "python"
    }
  },
  "cells": [
    {
      "cell_type": "markdown",
      "metadata": {
        "id": "view-in-github",
        "colab_type": "text"
      },
      "source": [
        "<a href=\"https://colab.research.google.com/github/stellatolim12/Pyton/blob/main/AULA_PYTON.ipynb\" target=\"_parent\"><img src=\"https://colab.research.google.com/assets/colab-badge.svg\" alt=\"Open In Colab\"/></a>"
      ]
    },
    {
      "cell_type": "markdown",
      "source": [
        "#**AULA 1** :🇹 🇴 🇾"
      ],
      "metadata": {
        "id": "LIhTjTDtnntl"
      }
    },
    {
      "cell_type": "code",
      "source": [
        "print(\"I competição de programação da Start\")\n",
        "ano = \"IX\"\n",
        "print(f\"{ano} competição de programação da Start\")"
      ],
      "metadata": {
        "colab": {
          "base_uri": "https://localhost:8080/"
        },
        "id": "JgD2pCy5pdVa",
        "outputId": "a0b0bcb1-0896-41fd-d1d9-20d277333851"
      },
      "execution_count": 1,
      "outputs": [
        {
          "output_type": "stream",
          "name": "stdout",
          "text": [
            "I competição de programação da Start\n",
            "IX competição de programação da Start\n"
          ]
        }
      ]
    },
    {
      "cell_type": "markdown",
      "source": [
        "#**AULA 2**  ☁ 🦩 💞"
      ],
      "metadata": {
        "id": "T5RZYQkuhIDU"
      }
    },
    {
      "cell_type": "code",
      "source": [
        "livro_ficcao = 8\n",
        "livro_n_ficcao = 10\n",
        "livro_infantil = 6\n",
        "pontos_rodrigo = livro_ficcao + livro_n_ficcao + livro_infantil\n",
        "print(f\"Os pontos totais do Rodrigo são {pontos_rodrigo}\")\n",
        "\n"
      ],
      "metadata": {
        "id": "HE7Fl3slmQbH"
      },
      "execution_count": null,
      "outputs": []
    }
  ]
}